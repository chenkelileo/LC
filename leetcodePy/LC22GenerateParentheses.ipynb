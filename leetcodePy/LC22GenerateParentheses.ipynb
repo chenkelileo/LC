{
 "cells": [
  {
   "cell_type": "code",
   "execution_count": null,
   "metadata": {},
   "outputs": [],
   "source": [
    "class LC22GenerateParentheses(object):\n",
    "    def generateParenthesis(self, n):\n",
    "        \"\"\"\n",
    "        :type n: int\n",
    "        :rtype: List[str]\n",
    "        \"\"\"\n",
    "        res = []\n",
    "        if n == 0:\n",
    "            return res\n",
    "        self.helper(res, \"\", n, n)\n",
    "        return res\n",
    "    \n",
    "    def helper(self, res, s, l, r,):\n",
    "        if l > r:\n",
    "            return\n",
    "        if l == 0 and r == 0: #if not left and not right:\n",
    "            res.append(s)\n",
    "            return\n",
    "        if (l > 0):\n",
    "            self.helper(res, s + \"(\", l - 1, r);\n",
    "        if (r > 0):\n",
    "            self.helper(res, s + \")\", l, r - 1);\n",
    "    "
   ]
  }
 ],
 "metadata": {
  "kernelspec": {
   "display_name": "Python 3",
   "language": "python",
   "name": "python3"
  },
  "language_info": {
   "codemirror_mode": {
    "name": "ipython",
    "version": 3
   },
   "file_extension": ".py",
   "mimetype": "text/x-python",
   "name": "python",
   "nbconvert_exporter": "python",
   "pygments_lexer": "ipython3",
   "version": "3.6.8"
  }
 },
 "nbformat": 4,
 "nbformat_minor": 2
}
