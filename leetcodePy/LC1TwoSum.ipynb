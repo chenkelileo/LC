{
 "cells": [
  {
   "cell_type": "code",
   "execution_count": 1,
   "metadata": {},
   "outputs": [],
   "source": [
    "class LC1TwoSum:\n",
    "    def twoSum(self, nums, target):\n",
    "        hash = {}\n",
    "        for i in range(len(nums)):\n",
    "            if target - nums[i] in hash:\n",
    "                return [hash[target - nums[i]], i]\n",
    "            hash[nums[i]] = i\n",
    "        return [-1, -1]\n",
    "        "
   ]
  },
  {
   "cell_type": "code",
   "execution_count": 3,
   "metadata": {},
   "outputs": [
    {
     "data": {
      "text/plain": [
       "[0, 1]"
      ]
     },
     "execution_count": 3,
     "metadata": {},
     "output_type": "execute_result"
    }
   ],
   "source": [
    "p1 = LC1TwoSum()\n",
    "p1.twoSum([2,7,5,8,9], 9)"
   ]
  },
  {
   "cell_type": "code",
   "execution_count": null,
   "metadata": {},
   "outputs": [],
   "source": [
    "class LC1TwoSum_Test:\n",
    "    def twoSum(self, nums, target):\n",
    "        hash = {}\n",
    "        result = []\n",
    "        for i, num in enumerate(nums):\n",
    "            if (target - num) not in hash:\n",
    "                l = hash.get(num, [])\n",
    "                l.append(i)\n",
    "                hash[num] = l\n",
    "\n",
    "            else:\n",
    "                for index in hash.get(target - num):\n",
    "                    result.append([index, i])\n",
    "\n",
    "        return result\n",
    "\n",
    "\n",
    "\n",
    "if __name__ == '__main__':\n",
    "    p1 = LC1TwoSum_Test()\n",
    "    print(p1.twoSum([2, 2, 3, 3], 5))"
   ]
  }
 ],
 "metadata": {
  "kernelspec": {
   "display_name": "Python 3",
   "language": "python",
   "name": "python3"
  },
  "language_info": {
   "codemirror_mode": {
    "name": "ipython",
    "version": 3
   },
   "file_extension": ".py",
   "mimetype": "text/x-python",
   "name": "python",
   "nbconvert_exporter": "python",
   "pygments_lexer": "ipython3",
   "version": "3.6.8"
  }
 },
 "nbformat": 4,
 "nbformat_minor": 2
}
